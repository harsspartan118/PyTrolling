{
 "cells": [
  {
   "cell_type": "markdown",
   "metadata": {},
   "source": [
    "## Number Systems and Encoding\n",
    "\n",
    "\n",
    "#### For Conversion of a programming language to machine language"
   ]
  },
  {
   "cell_type": "markdown",
   "metadata": {},
   "source": [
    "### Binary numbers\n",
    "\n",
    "#### Written with subscript 2, like- $(101)_2$\n",
    "#### Use the place value concept to convert to decimal\n",
    "\n",
    "> Example-\n",
    "> $(1011)_2 = 1\\times2^3 + 0\\times2^2 + 1\\times2^1 + 1\\times2^0 = (11)_{10}$\n",
    "\n",
    "*See also- Hexadecimal number system-*\n",
    "- Uses 16 symbols- 0 to 9 and A to F.\n",
    "\n",
    "- Useful for representing large numbers with fewer digits. Such as memory adresses or RGB color codes.\n",
    "\n",
    "### Character encodings\n",
    "\n",
    "#### Each letter or symbol can be mapped to an interger using a conversion table.\n",
    "\n",
    "> Example- ASCII, UTF-8\n",
    "> Such as A = 65, a = 96, b = 97, ...\n",
    "\n",
    "#### A compiler or interpreter software converts a programming language written in english to binary CPU instrctions using the above concepts.\n"
   ]
  },
  {
   "cell_type": "markdown",
   "metadata": {},
   "source": [
    "## Variables and Computer Memory\n",
    "\n",
    "#### To execute any code, it is first loaded into memory (RAM) and then read by the CPU.\n",
    "#### The memory is divided into slots of 1 byte. Each slot as a unique memory address.\n",
    "> I.e. Each slot can store a value from 0 to 255 (8-bit data)\n",
    "#### Each variable in a programming language is given some slots in memory.\n",
    "> Older languages like C had several data types with different sizes.\n",
    "\n",
    "> Example- *char* = 1 byte, *int* = 4 bytes, *long* = 8 bytes, ...\n",
    "\n",
    "> Python uses a more generic approach where we don't need to care about sizes."
   ]
  },
  {
   "cell_type": "markdown",
   "metadata": {},
   "source": [
    "## Python Variables and Operators\n",
    "\n",
    "#### In python, all variables are separate from their actual values.\n",
    "#### Variables are just references to objects. Objects carry the actual values\n",
    "\n",
    "> Example- &emsp; `var1 = 10`\n",
    "\n",
    "> Here *var1* is just a reference, while *10* is a separate object.\n",
    "\n",
    "> An effect of this is that any object representing a fixed value will never be duplicated in memory.\n",
    "\n",
    "> Example- even if the value 10 is assigned to many variables, all those variables are just refering to a single object in memory.\n",
    "\n",
    "### Operators-\n",
    "\n",
    "#### Arithmetic-\n",
    "| Symbol | Name | Example |\n",
    "| :- | :- | :- |\n",
    "| / | True Division | 5/2 => 2.5 |\n",
    "| // | Floor Division | 5/2 => 2 |\n",
    "| ** | Power | 5\\*\\*2 => 25 |\n",
    "| += | Add and assign | x = 2; x += 5 => 7 |\n",
    "\n",
    "#### Logical-\n",
    "- and\n",
    "- or\n",
    "- not\n",
    "\n",
    "#### Comparision-\n",
    "| Symbol | Name | Example |\n",
    "| :- | :- | :- |\n",
    "| == | Equals | 5 == 5 => True |\n",
    "| <= | Less than or Equals | 5 <= 2 => False |\n",
    "| < | Less than | 5 < 2 => False |\n",
    "| != | Not equals | 5 != 2 => True |\n",
    "\n",
    "#### Misc-\n",
    "- **in**\n",
    "\n",
    "> Checks if items are contained in an object\n",
    "\n",
    "> Example, &emsp; `2 in [1, 2, 3]`&emsp; =>&emsp; `True`\n",
    "\n",
    "- **is**\n",
    "\n",
    "> Checks if two objects are identical, i.e. same memory address. Example-\n",
    "\n",
    "> `True is 1` &emsp; => &emsp; `False`\n",
    "\n",
    "> `True == 1` &emsp; => &emsp; `True`"
   ]
  },
  {
   "cell_type": "markdown",
   "metadata": {},
   "source": [
    "#### Variable assignment can be done in multiple ways"
   ]
  },
  {
   "cell_type": "code",
   "execution_count": 8,
   "metadata": {},
   "outputs": [
    {
     "name": "stdout",
     "output_type": "stream",
     "text": [
      "1 1\n"
     ]
    }
   ],
   "source": [
    "# Chained to same value\n",
    "a = b = 1\n",
    "print(a, b)"
   ]
  },
  {
   "cell_type": "code",
   "execution_count": 9,
   "metadata": {},
   "outputs": [
    {
     "name": "stdout",
     "output_type": "stream",
     "text": [
      "1 2\n"
     ]
    }
   ],
   "source": [
    "# Respective values\n",
    "a, b = 1, 2\n",
    "print(a, b)"
   ]
  },
  {
   "cell_type": "code",
   "execution_count": 11,
   "metadata": {},
   "outputs": [
    {
     "name": "stdout",
     "output_type": "stream",
     "text": [
      "1\n",
      "[2, 3, 4, 5]\n",
      "6\n"
     ]
    }
   ],
   "source": [
    "# Collect remaining values with *\n",
    "a, *b, c = 1,2,3,4,5,6\n",
    "print(a)\n",
    "print(b)\n",
    "print(c)"
   ]
  },
  {
   "cell_type": "markdown",
   "metadata": {},
   "source": [
    "## Data Types of objects\n",
    "\n",
    "- Numeric\n",
    "- Strings\n",
    "- Lists\n",
    "- Tuples\n",
    "- Sets\n",
    "- Dictionaries\n",
    "- Boolean (`True` and `False`)\n",
    "- None (Missing value)"
   ]
  },
  {
   "cell_type": "markdown",
   "metadata": {},
   "source": [
    "#### Mutability- Whether an object can be modified without creating a new object.\n",
    "\n",
    "> Example- &emsp; `list1 = [1,2,3,4]`\n",
    "\n",
    "> Writing `list1 = [10,20,30]` assigns the variable list1 to a new object entirely. The old object `[1,2,3,4]` is not changed,\n",
    "\n",
    "> But writing `list1[2] = 100` changes the existing list object by replacing an element.\n",
    "\n",
    "> The above operation cannot be performed for immutable data types. Example- This will not work- `tuple([1,2,3])[1] = 20`\n",
    "\n",
    "> String is an exception though. If you try to change an element of a string, it will generate a new object internally, but it will work. Example- `\"Anaconda\"[1] = \"M\"`\n",
    "\n",
    "#### Order- Whether the object cares about the relative position of it elements.\n",
    "\n",
    "> If an object is not ordered, then you cannot use indexes to locate its elements.\n",
    "\n",
    "| Data Type | Mutablility | Order |\n",
    "| :- | :-: | :-: |\n",
    "| **Numeric** | No | Not a sequence |\n",
    "| **Dict** | Yes | Not a sequence |\n",
    "| **String** | No | Yes |\n",
    "| **List** | Yes | Yes |\n",
    "| **Tuple** | No | Yes |\n",
    "| **Set** | Yes | No |"
   ]
  },
  {
   "cell_type": "markdown",
   "metadata": {},
   "source": [
    "## Slicing in sequences-\n",
    "\n",
    "#### sequence[start inclusive, stop exclusive, step]\n",
    "\n",
    "> All indexing in Python starts from 0."
   ]
  },
  {
   "cell_type": "code",
   "execution_count": 4,
   "metadata": {},
   "outputs": [
    {
     "data": {
      "text/plain": [
       "[3, 4, 5]"
      ]
     },
     "execution_count": 4,
     "metadata": {},
     "output_type": "execute_result"
    }
   ],
   "source": [
    "list1 = [1,2,3,4,5,6,7,8]\n",
    "\n",
    "# Default step is 1\n",
    "list1[2 : 5]"
   ]
  },
  {
   "cell_type": "code",
   "execution_count": 5,
   "metadata": {},
   "outputs": [
    {
     "data": {
      "text/plain": [
       "[6, 5, 4]"
      ]
     },
     "execution_count": 5,
     "metadata": {},
     "output_type": "execute_result"
    }
   ],
   "source": [
    "# Negative step makes it run backwards.\n",
    "list1[5 : 2 : -1]"
   ]
  },
  {
   "cell_type": "code",
   "execution_count": 7,
   "metadata": {},
   "outputs": [
    {
     "data": {
      "text/plain": [
       "[3, 4, 5, 6, 7, 8]"
      ]
     },
     "execution_count": 7,
     "metadata": {},
     "output_type": "execute_result"
    }
   ],
   "source": [
    "# Default start is at 0, default stop is at end of list\n",
    "list1[2 : ] # Stop is missing"
   ]
  },
  {
   "cell_type": "code",
   "execution_count": 9,
   "metadata": {},
   "outputs": [
    {
     "data": {
      "text/plain": [
       "[3, 4, 5, 6, 7]"
      ]
     },
     "execution_count": 9,
     "metadata": {},
     "output_type": "execute_result"
    }
   ],
   "source": [
    "# Stop = -1 implies index 1 from the end. I.e. last element exclusive.\n",
    "list1[2 : -1]"
   ]
  },
  {
   "cell_type": "code",
   "execution_count": 10,
   "metadata": {},
   "outputs": [
    {
     "data": {
      "text/plain": [
       "[]"
      ]
     },
     "execution_count": 10,
     "metadata": {},
     "output_type": "execute_result"
    }
   ],
   "source": [
    "# Don't expect circular indexing. This is heresy.\n",
    "list1[5 : 2 : 2]"
   ]
  },
  {
   "cell_type": "code",
   "execution_count": 11,
   "metadata": {},
   "outputs": [
    {
     "data": {
      "text/plain": [
       "10"
      ]
     },
     "execution_count": 11,
     "metadata": {},
     "output_type": "execute_result"
    }
   ],
   "source": [
    "matrix1 = [[1,2], [10,20]]\n",
    "\n",
    "# 2D indexing works in steps\n",
    "matrix1[1][0]\n",
    "\n",
    "# Above is same as writing-\n",
    "# row = matrix1[1]\n",
    "# item = row[0]\n",
    "# This can be extended to any number of dimensions."
   ]
  },
  {
   "cell_type": "markdown",
   "metadata": {},
   "source": [
    "## Dictionaries-\n",
    "\n",
    "#### Key - Value pairs\n",
    "#### Keys must be immutable."
   ]
  },
  {
   "cell_type": "code",
   "execution_count": 12,
   "metadata": {},
   "outputs": [
    {
     "data": {
      "text/plain": [
       "10"
      ]
     },
     "execution_count": 12,
     "metadata": {},
     "output_type": "execute_result"
    }
   ],
   "source": [
    "# Multiple ways to create.\n",
    "dict1 = {\"a\" : 10, \"b\" : 20}\n",
    "\n",
    "dict2 = dict(a = 10, b = 20)\n",
    "\n",
    "dict3 = dict(zip(['a', 'b'], [10, 20]))\n",
    "\n",
    "# Access an element's value by key\n",
    "dict1['a']"
   ]
  },
  {
   "cell_type": "markdown",
   "metadata": {},
   "source": [
    "## If statements-\n",
    "\n",
    "`if <condition>:\n",
    "    <stuff>\n",
    "else if <condition>:\n",
    "    <stuff>\n",
    "else:\n",
    "    <stuff>`"
   ]
  },
  {
   "cell_type": "markdown",
   "metadata": {},
   "source": [
    "## Loops-\n",
    "\n",
    "#### While loop runs as long as its condition is True.\n",
    "\n",
    "`while <condition>:\n",
    "    <stuff>\n",
    " else:\n",
    "    <stuff>\n",
    "`\n",
    "\n",
    "> else will always run after the loop unless the loop is forced to exit before the condition became false. See `break` and `continue` below.\n",
    "\n",
    "#### For loops allow more convenient handling of variables used for iterating.\n",
    "\n",
    "`for <variable> in <sequence>:\n",
    "    <stuff>\n",
    " else:\n",
    "    <stuff>\n",
    "`\n",
    "\n",
    "#### The range() function is useful to generate sequences to run the loops over.\n",
    "\n",
    "#### range(start, stop exclusive, step)\n",
    "\n",
    "> Range function by default gives you an object of range class. This can be used inside loops directly. Example-\n",
    "\n",
    "> `for i in range(1, 10): pass`\n",
    "\n",
    "> You can also force range to generate a sequence by converting it to a list, tuple or set. Example-\n",
    "\n",
    "> `list(range(1, 10))`\n",
    "\n",
    "> Forcing range to generate a seqence causes more memory consumption. Because memory will have to be alloted to all those elements of the sequence."
   ]
  },
  {
   "cell_type": "markdown",
   "metadata": {},
   "source": [
    "#### Changing loop execution using `break` and `continue`"
   ]
  },
  {
   "cell_type": "code",
   "execution_count": 16,
   "metadata": {},
   "outputs": [
    {
     "name": "stdout",
     "output_type": "stream",
     "text": [
      "1\n",
      "2\n"
     ]
    }
   ],
   "source": [
    "# break can be used inside a loop to exit the loop\n",
    "for i in range(1,5):\n",
    "    if i == 3:\n",
    "        break\n",
    "    print(i)"
   ]
  },
  {
   "cell_type": "code",
   "execution_count": 17,
   "metadata": {},
   "outputs": [
    {
     "name": "stdout",
     "output_type": "stream",
     "text": [
      "1\n",
      "2\n",
      "4\n"
     ]
    }
   ],
   "source": [
    "# continue can be used to skip the current iteration of the loop\n",
    "for i in range(1,5):\n",
    "    if i == 3:\n",
    "        continue\n",
    "    print(i)"
   ]
  },
  {
   "cell_type": "markdown",
   "metadata": {},
   "source": [
    "#### Exercise-\n",
    "> Create a function to work like `dir()` but without showing items that start with *__*"
   ]
  },
  {
   "cell_type": "code",
   "execution_count": null,
   "metadata": {},
   "outputs": [],
   "source": [
    "def con(obj):\n",
    "    result = []\n",
    "    for item in dir(obj):\n",
    "        if not item.startswith('__'): # only works with str objects.\n",
    "            result.append(item)\n",
    "    return result\n",
    "\n",
    "con(\"hello\")\n",
    "con(str)\n",
    "con([1,2,3,4,5])"
   ]
  },
  {
   "cell_type": "markdown",
   "metadata": {},
   "source": [
    "## Functions-\n",
    "\n",
    "`def <name> (<arguments>):\n",
    "    <stuff>\n",
    "`\n",
    "\n",
    "#### Objects changed inside a function will remained changed outside. Should always avoid changing the input parameters inside a function."
   ]
  },
  {
   "cell_type": "code",
   "execution_count": 18,
   "metadata": {},
   "outputs": [
    {
     "name": "stdout",
     "output_type": "stream",
     "text": [
      "[100, 200, 300]\n",
      "[100, 200, 300]\n"
     ]
    }
   ],
   "source": [
    "# This function makes a copy of the input object before changing it.\n",
    "def f1(l):\n",
    "    copyL = l[:]\n",
    "    copyL.append(10)\n",
    "\n",
    "# This function only reassigns the variable to another object.\n",
    "# It doesn't actually change the original object.\n",
    "def f2(l):\n",
    "    l = [1,2,3]\n",
    "    \n",
    "m = [100,200,300]\n",
    "\n",
    "f2(m)\n",
    "print(m)\n",
    "\n",
    "f1(m)\n",
    "print(m)"
   ]
  },
  {
   "cell_type": "markdown",
   "metadata": {},
   "source": [
    "## String formatting-\n",
    "\n",
    "#### Variables can be inserted into a string using the `%s` specifier"
   ]
  },
  {
   "cell_type": "code",
   "execution_count": 19,
   "metadata": {},
   "outputs": [
    {
     "name": "stdout",
     "output_type": "stream",
     "text": [
      "hi ---- there\n"
     ]
    }
   ],
   "source": [
    "str1 = \"hi\"\n",
    "print(\"%s ---- %s\" % (str1, \"there\"))"
   ]
  },
  {
   "cell_type": "code",
   "execution_count": 22,
   "metadata": {},
   "outputs": [
    {
     "name": "stdout",
     "output_type": "stream",
     "text": [
      "hi             there          \n",
      "asdasd         there\n"
     ]
    }
   ],
   "source": [
    "# .ljust()- adds tab like spaces that adjust for the string length.\n",
    "print(\"hi\".ljust(15) + \"there\".ljust(15))\n",
    "print(\"asdasd\".ljust(15) + \"there\")"
   ]
  }
 ],
 "metadata": {
  "kernelspec": {
   "display_name": "Python 3",
   "language": "python",
   "name": "python3"
  },
  "language_info": {
   "codemirror_mode": {
    "name": "ipython",
    "version": 3
   },
   "file_extension": ".py",
   "mimetype": "text/x-python",
   "name": "python",
   "nbconvert_exporter": "python",
   "pygments_lexer": "ipython3",
   "version": "3.8.2"
  }
 },
 "nbformat": 4,
 "nbformat_minor": 4
}
