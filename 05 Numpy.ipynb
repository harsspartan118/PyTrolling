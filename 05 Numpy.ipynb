{
 "cells": [
  {
   "cell_type": "code",
   "execution_count": 1,
   "metadata": {},
   "outputs": [],
   "source": [
    "import numpy as np"
   ]
  },
  {
   "cell_type": "code",
   "execution_count": 4,
   "metadata": {},
   "outputs": [
    {
     "name": "stdout",
     "output_type": "stream",
     "text": [
      "[1 2 3]\n"
     ]
    }
   ],
   "source": [
    "arr1 = np.array([1,2,3])\n",
    "print(arr1)\n",
    "# Static (Immutable for size) and Homogeneous (one data type)"
   ]
  },
  {
   "cell_type": "code",
   "execution_count": 5,
   "metadata": {},
   "outputs": [
    {
     "data": {
      "text/plain": [
       "[1, 2, 3, 4, 5, 6]"
      ]
     },
     "execution_count": 5,
     "metadata": {},
     "output_type": "execute_result"
    }
   ],
   "source": [
    "# Python list\n",
    "[1,2,3] + [4,5,6]"
   ]
  },
  {
   "cell_type": "code",
   "execution_count": 7,
   "metadata": {},
   "outputs": [
    {
     "data": {
      "text/plain": [
       "array([5, 7, 9])"
      ]
     },
     "execution_count": 7,
     "metadata": {},
     "output_type": "execute_result"
    }
   ],
   "source": [
    "# Numpy- Element wise arithmetic\n",
    "np.array([1,2,3]) + np.array([4,5,6])"
   ]
  },
  {
   "cell_type": "code",
   "execution_count": 8,
   "metadata": {},
   "outputs": [
    {
     "data": {
      "text/plain": [
       "array([ True, False])"
      ]
     },
     "execution_count": 8,
     "metadata": {},
     "output_type": "execute_result"
    }
   ],
   "source": [
    "# Logical operators in Numpy\n",
    "np.logical_and(np.array([True, False]), np.array([True, True]))"
   ]
  },
  {
   "cell_type": "code",
   "execution_count": 16,
   "metadata": {},
   "outputs": [
    {
     "name": "stdout",
     "output_type": "stream",
     "text": [
      "(4, 2)\n",
      "8\n",
      "[ 1  2  3  4 10 20 30 40]\n"
     ]
    }
   ],
   "source": [
    "# Multidimensional\n",
    "arr1 = np.array([[1,2], [3,4], [10,20], [30,40]])\n",
    "print(arr1.shape)\n",
    "print(arr1.size)\n",
    "print(arr1.ravel())"
   ]
  },
  {
   "cell_type": "code",
   "execution_count": 22,
   "metadata": {},
   "outputs": [
    {
     "name": "stdout",
     "output_type": "stream",
     "text": [
      "2\n",
      "[2, 3, 4]\n",
      "[5, 6]\n",
      "2\n"
     ]
    }
   ],
   "source": [
    "# Python list\n",
    "l1 = [1,2,3,4,5,6]\n",
    "l2 = [[1,2], [10,20]]\n",
    "print(l1[1])\n",
    "print(l1[1:4])\n",
    "print(l1[4:])\n",
    "print(l2[0][1])"
   ]
  },
  {
   "cell_type": "code",
   "execution_count": 24,
   "metadata": {},
   "outputs": [
    {
     "name": "stdout",
     "output_type": "stream",
     "text": [
      "[[[ 1  2  3]\n",
      "  [ 4  5  6]]\n",
      "\n",
      " [[ 7  8  9]\n",
      "  [10 11 12]]]\n",
      "2\n",
      "[1 2 3]\n",
      "[10 30 50]\n"
     ]
    }
   ],
   "source": [
    "#Numpy\n",
    "arr1 = np.array([[[1, 2, 3], [4, 5, 6]], [[7, 8, 9], [10, 11, 12]]])\n",
    "print(arr1)\n",
    "print(arr1[0, 0, 1])\n",
    "print(arr1[0, 0, ...])\n",
    "\n",
    "arr2 = np.array([10, 20, 30, 40, 50])\n",
    "print(arr2[[0, 2, 4]])"
   ]
  },
  {
   "cell_type": "code",
   "execution_count": 39,
   "metadata": {},
   "outputs": [
    {
     "name": "stdout",
     "output_type": "stream",
     "text": [
      "['asd', 'asf']\n",
      "['asd', 'asf']\n"
     ]
    }
   ],
   "source": [
    "# From a numpy array of words, extract elements that start with an 'a'\n",
    "\n",
    "# Using loop\n",
    "words = np.array(['asd', 'qwe', 'zxc', 'asf', 'qwr', 'zxv'])\n",
    "result = []\n",
    "for item in words:\n",
    "    if item.startswith('a'):\n",
    "        result.append(item)\n",
    "print(result)\n",
    "\n",
    "# Using comprehension\n",
    "words = np.array(['asd', 'qwe', 'zxc', 'asf', 'qwr', 'zxv'])\n",
    "result = [item for item in words if item.startswith('a')]\n",
    "print(result)"
   ]
  },
  {
   "cell_type": "code",
   "execution_count": 41,
   "metadata": {},
   "outputs": [
    {
     "name": "stdout",
     "output_type": "stream",
     "text": [
      "[False False  True False False  True]\n"
     ]
    },
    {
     "data": {
      "text/plain": [
       "array([3, 6])"
      ]
     },
     "execution_count": 41,
     "metadata": {},
     "output_type": "execute_result"
    }
   ],
   "source": [
    "# Indexing with conditions\n",
    "arr1 = np.array([1, 2, 3, 4, 5, 6])\n",
    "print(arr1 % 3 == 0)\n",
    "arr1[arr1 % 3 == 0]"
   ]
  },
  {
   "cell_type": "code",
   "execution_count": 44,
   "metadata": {},
   "outputs": [
    {
     "name": "stdout",
     "output_type": "stream",
     "text": [
      "[[1 2 3]\n",
      " [4 5 6]]\n",
      "[array([[1, 2]]), array([[3, 4]])]\n"
     ]
    }
   ],
   "source": [
    "arr1 = np.array([1, 2, 3])\n",
    "arr2 = np.array([4, 5, 6])\n",
    "print(np.vstack((arr1, arr2)))\n",
    "\n",
    "arr3 = np.array([[1, 2], [3, 4]])\n",
    "print(np.vsplit(arr3, 2))"
   ]
  },
  {
   "cell_type": "code",
   "execution_count": 68,
   "metadata": {},
   "outputs": [
    {
     "name": "stdout",
     "output_type": "stream",
     "text": [
      "[[ 1  2  3  4  5  6  7  8]\n",
      " [ 9 10 11 12 13 14 15 16]\n",
      " [17 18 19 20 21 22 23 24]\n",
      " [25 26 27 28 29 30 31 32]\n",
      " [33 34 35 36 37 38 39 40]\n",
      " [41 42 43 44 45 46 47 48]\n",
      " [49 50 51 52 53 54 55 56]\n",
      " [57 58 59 60 61 62 63 64]]\n",
      "[[ 7  8]\n",
      " [15 16]]\n",
      "\n",
      "[[ 1  2  3  4  5  6  7  8]\n",
      " [ 9 10 11 12 13 14 15 16]\n",
      " [17 18 19 20 21 22 23 24]\n",
      " [25 26 27 28 29 30 31 32]\n",
      " [33 34 35 36 37 38 39 40]\n",
      " [41 42 43 44 45 46 47 48]\n",
      " [49 50 51 52 53 54 55 56]\n",
      " [57 58 59 60 61 62 63 64]]\n",
      "[[ 7  8]\n",
      " [15 16]]\n"
     ]
    }
   ],
   "source": [
    "# Get the top right 2 x 2 slice from an 8 x 8 ndarray matrix.\n",
    "\n",
    "# Created with comprehension\n",
    "mat = np.array([[i for i in range(x, x+8)] for x in range(1,65,8)])\n",
    "print(mat)\n",
    "print(mat[0:2,6:8])\n",
    "\n",
    "print()\n",
    "\n",
    "# Without comprehension\n",
    "mat = np.array(np.vstack([range(1,9), range(9,17), range(17,25), range(25,33),\n",
    "                         range(33,41), range(41,49), range(49,57), range(57,65)]))\n",
    "print(mat)\n",
    "print(mat[0:2,6:8])"
   ]
  }
 ],
 "metadata": {
  "kernelspec": {
   "display_name": "Python 3",
   "language": "python",
   "name": "python3"
  },
  "language_info": {
   "codemirror_mode": {
    "name": "ipython",
    "version": 3
   },
   "file_extension": ".py",
   "mimetype": "text/x-python",
   "name": "python",
   "nbconvert_exporter": "python",
   "pygments_lexer": "ipython3",
   "version": "3.6.11"
  }
 },
 "nbformat": 4,
 "nbformat_minor": 4
}
